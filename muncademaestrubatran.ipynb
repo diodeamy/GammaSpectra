{
 "cells": [
  {
   "cell_type": "code",
   "execution_count": 1,
   "id": "5e92d3d4",
   "metadata": {},
   "outputs": [],
   "source": [
    "from functions import av_err, savetocsv\n",
    "import numpy as np\n",
    "import pandas as pd"
   ]
  },
  {
   "cell_type": "code",
   "execution_count": 2,
   "id": "04511f1a",
   "metadata": {},
   "outputs": [],
   "source": [
    "dataset_1 = pd.read_csv('Data/CSI/Ba133/GAMMA_Charge_Histo(Time 20)_06-09-23 Time 1147.csv', \n",
    "                        names = ['ADC channel','counts'], nrows = 5000)\n",
    "dataset_2 = pd.read_csv('Data/CSI/Ba133/GAMMA_Charge_Histo(Time 20)_06-09-23 Time 1148.csv', \n",
    "                        names = ['ADC channel','counts'], nrows = 5000)\n",
    "dataset_3 = pd.read_csv('Data/CSI/Ba133/GAMMA_Charge_Histo(Time 20)_06-09-23 Time 1151.csv', \n",
    "                        names = ['ADC channel','counts'], nrows = 5000)"
   ]
  },
  {
   "cell_type": "code",
   "execution_count": 7,
   "id": "fdcbed4f",
   "metadata": {},
   "outputs": [
    {
     "name": "stdout",
     "output_type": "stream",
     "text": [
      "      ADC channel  counts\n",
      "0             0.0     NaN\n",
      "1             0.0     NaN\n",
      "2             0.0     NaN\n",
      "3             0.0     NaN\n",
      "4             0.0     NaN\n",
      "...           ...     ...\n",
      "3496          0.0     NaN\n",
      "3497          0.0     NaN\n",
      "3498          0.0     NaN\n",
      "3499          0.0     NaN\n",
      "3500          NaN     NaN\n",
      "\n",
      "[3501 rows x 2 columns]\n"
     ]
    }
   ],
   "source": [
    "print(dataset_3)"
   ]
  },
  {
   "cell_type": "code",
   "execution_count": 3,
   "id": "93d04128",
   "metadata": {},
   "outputs": [
    {
     "name": "stdout",
     "output_type": "stream",
     "text": [
      "   ADC channel  counts  run2  run3\n",
      "0       -495.0     2.0   4.0   NaN\n",
      "1       -485.0     3.0   3.0   NaN\n",
      "2       -475.0     2.0   1.0   NaN\n",
      "3       -465.0     1.0   3.0   NaN\n",
      "4       -455.0     3.0   6.0   NaN\n",
      "   ADC channel  counts  run2  run3  average  error\n",
      "0       -495.0     2.0   4.0   NaN      NaN    NaN\n",
      "1       -485.0     3.0   3.0   NaN      NaN    NaN\n",
      "2       -475.0     2.0   1.0   NaN      NaN    NaN\n",
      "3       -465.0     1.0   3.0   NaN      NaN    NaN\n",
      "4       -455.0     3.0   6.0   NaN      NaN    NaN\n"
     ]
    },
    {
     "data": {
      "text/html": [
       "<div>\n",
       "<style scoped>\n",
       "    .dataframe tbody tr th:only-of-type {\n",
       "        vertical-align: middle;\n",
       "    }\n",
       "\n",
       "    .dataframe tbody tr th {\n",
       "        vertical-align: top;\n",
       "    }\n",
       "\n",
       "    .dataframe thead th {\n",
       "        text-align: right;\n",
       "    }\n",
       "</style>\n",
       "<table border=\"1\" class=\"dataframe\">\n",
       "  <thead>\n",
       "    <tr style=\"text-align: right;\">\n",
       "      <th></th>\n",
       "      <th>ADC channel</th>\n",
       "      <th>average</th>\n",
       "      <th>error</th>\n",
       "    </tr>\n",
       "  </thead>\n",
       "  <tbody>\n",
       "    <tr>\n",
       "      <th>0</th>\n",
       "      <td>-495.0</td>\n",
       "      <td>NaN</td>\n",
       "      <td>NaN</td>\n",
       "    </tr>\n",
       "    <tr>\n",
       "      <th>1</th>\n",
       "      <td>-485.0</td>\n",
       "      <td>NaN</td>\n",
       "      <td>NaN</td>\n",
       "    </tr>\n",
       "    <tr>\n",
       "      <th>2</th>\n",
       "      <td>-475.0</td>\n",
       "      <td>NaN</td>\n",
       "      <td>NaN</td>\n",
       "    </tr>\n",
       "    <tr>\n",
       "      <th>3</th>\n",
       "      <td>-465.0</td>\n",
       "      <td>NaN</td>\n",
       "      <td>NaN</td>\n",
       "    </tr>\n",
       "    <tr>\n",
       "      <th>4</th>\n",
       "      <td>-455.0</td>\n",
       "      <td>NaN</td>\n",
       "      <td>NaN</td>\n",
       "    </tr>\n",
       "    <tr>\n",
       "      <th>...</th>\n",
       "      <td>...</td>\n",
       "      <td>...</td>\n",
       "      <td>...</td>\n",
       "    </tr>\n",
       "    <tr>\n",
       "      <th>1996</th>\n",
       "      <td>19465.0</td>\n",
       "      <td>NaN</td>\n",
       "      <td>NaN</td>\n",
       "    </tr>\n",
       "    <tr>\n",
       "      <th>1997</th>\n",
       "      <td>19475.0</td>\n",
       "      <td>NaN</td>\n",
       "      <td>NaN</td>\n",
       "    </tr>\n",
       "    <tr>\n",
       "      <th>1998</th>\n",
       "      <td>19485.0</td>\n",
       "      <td>NaN</td>\n",
       "      <td>NaN</td>\n",
       "    </tr>\n",
       "    <tr>\n",
       "      <th>1999</th>\n",
       "      <td>19495.0</td>\n",
       "      <td>NaN</td>\n",
       "      <td>NaN</td>\n",
       "    </tr>\n",
       "    <tr>\n",
       "      <th>2000</th>\n",
       "      <td>NaN</td>\n",
       "      <td>NaN</td>\n",
       "      <td>NaN</td>\n",
       "    </tr>\n",
       "  </tbody>\n",
       "</table>\n",
       "<p>2001 rows × 3 columns</p>\n",
       "</div>"
      ],
      "text/plain": [
       "      ADC channel  average  error\n",
       "0          -495.0      NaN    NaN\n",
       "1          -485.0      NaN    NaN\n",
       "2          -475.0      NaN    NaN\n",
       "3          -465.0      NaN    NaN\n",
       "4          -455.0      NaN    NaN\n",
       "...           ...      ...    ...\n",
       "1996      19465.0      NaN    NaN\n",
       "1997      19475.0      NaN    NaN\n",
       "1998      19485.0      NaN    NaN\n",
       "1999      19495.0      NaN    NaN\n",
       "2000          NaN      NaN    NaN\n",
       "\n",
       "[2001 rows x 3 columns]"
      ]
     },
     "execution_count": 3,
     "metadata": {},
     "output_type": "execute_result"
    }
   ],
   "source": [
    "av_err(dataset_1, dataset_2, dataset_3)"
   ]
  },
  {
   "cell_type": "code",
   "execution_count": 22,
   "id": "97afa377",
   "metadata": {},
   "outputs": [],
   "source": [
    "savetocsv(av_err(dataset_1, dataset_2, dataset_3), 'Data/CSI/Ba133/CSI_Ba133_final.csv')"
   ]
  },
  {
   "cell_type": "code",
   "execution_count": null,
   "id": "bc87391e",
   "metadata": {},
   "outputs": [],
   "source": []
  }
 ],
 "metadata": {
  "kernelspec": {
   "display_name": "Python 3 (ipykernel)",
   "language": "python",
   "name": "python3"
  },
  "language_info": {
   "codemirror_mode": {
    "name": "ipython",
    "version": 3
   },
   "file_extension": ".py",
   "mimetype": "text/x-python",
   "name": "python",
   "nbconvert_exporter": "python",
   "pygments_lexer": "ipython3",
   "version": "3.9.7"
  }
 },
 "nbformat": 4,
 "nbformat_minor": 5
}
