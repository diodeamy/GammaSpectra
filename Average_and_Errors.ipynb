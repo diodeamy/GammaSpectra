{
 "cells": [
  {
   "cell_type": "code",
   "execution_count": null,
   "id": "f8599b78",
   "metadata": {},
   "outputs": [],
   "source": [
    "# import the necessary data (i.e. the measurements per crystal, per source)\n",
    "\n",
    "BGO_ = pd.read_csv(\"Data/BGO/\")"
   ]
  },
  {
   "cell_type": "code",
   "execution_count": null,
   "id": "225547f6",
   "metadata": {},
   "outputs": [],
   "source": [
    "# we do wish to have errors in all measurements, we're not God after all\n",
    "\n",
    "# make a function that averages out the counts per bin and gives the error as the larges difference between\\\n",
    "# the average and the measurement\n",
    "\n",
    "def av_err():\n",
    "    \"\"\"\n",
    "    function has to work with 1 row at a time, such that it can loop through the data structure and do average\n",
    "    and find error\n",
    "    \"\"\""
   ]
  }
 ],
 "metadata": {
  "kernelspec": {
   "display_name": "Python 3 (ipykernel)",
   "language": "python",
   "name": "python3"
  },
  "language_info": {
   "codemirror_mode": {
    "name": "ipython",
    "version": 3
   },
   "file_extension": ".py",
   "mimetype": "text/x-python",
   "name": "python",
   "nbconvert_exporter": "python",
   "pygments_lexer": "ipython3",
   "version": "3.9.7"
  }
 },
 "nbformat": 4,
 "nbformat_minor": 5
}
