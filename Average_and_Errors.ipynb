{
 "cells": [
  {
   "cell_type": "code",
   "execution_count": 7,
   "id": "3db8aa33",
   "metadata": {},
   "outputs": [],
   "source": [
    "# import packages\n",
    "import pandas as pd\n",
    "import numpy as np"
   ]
  },
  {
   "cell_type": "code",
   "execution_count": 79,
   "id": "f8599b78",
   "metadata": {},
   "outputs": [],
   "source": [
    "# import the necessary data (i.e. the measurements per crystal, per source)\n",
    "\n",
    "BGO_Am241_1 = pd.read_csv('Data/BGO/Am241/GAMMA_Charge_Histo(Time 90)_06-09-23 Time 1423.csv', \n",
    "                         names = ['ADC channel', 'counts'],\n",
    "                         nrows = 4000)\n",
    "BGO_Am241_2 = pd.read_csv('Data/BGO/Am241/GAMMA_Charge_Histo(Time 90)_06-09-23 Time 1425.csv',  \n",
    "                         names = ['ADC channel', 'counts'],\n",
    "                         nrows = 4000)\n",
    "BGO_Am241_3 = pd.read_csv('Data/BGO/Am241/GAMMA_Charge_Histo(Time 90)_06-09-23 Time 1427.csv',  \n",
    "                         names = ['ADC channel', 'counts'],\n",
    "                         nrows = 4000)\n",
    "\n",
    "# make copies of original dataframes, to be put together into one, such that we don't alter the originals\n",
    "Am241_1c = BGO_Am241_1.copy()\n",
    "Am241_2c = BGO_Am241_2.copy()\n",
    "Am241_3c = BGO_Am241_3.copy()"
   ]
  },
  {
   "cell_type": "code",
   "execution_count": 147,
   "id": "225547f6",
   "metadata": {},
   "outputs": [],
   "source": [
    "# we do wish to have errors in all measurements, we're not God after all\n",
    "\n",
    "# make a function that averages out the counts per bin and gives the error as the larges difference between\\\n",
    "# the average and the measurement\n",
    "\n",
    "def av_err(dataset_1, dataset_2, dataset_3):\n",
    "    \"\"\"\n",
    "    function has to work with 1 row at a time, such that it can loop through the data structure and average\n",
    "    and find error\n",
    "    \"\"\"\n",
    "    \n",
    "    # we want to make a copy of dataframes, such that we don't work on the originals\n",
    "    dataset1c = dataset_1.copy()\n",
    "    dataset2c = dataset_2.copy()\n",
    "    dataset3c = dataset_3.copy()\n",
    "    \n",
    "    # we now create a larger dataframe that contains data from all three runs\n",
    "    # let's add to the first one and call it a day\n",
    "    dataset1c['run2'] = dataset2c['counts']\n",
    "    dataset1c['run3'] = dataset3c['counts']\n",
    "    \n",
    "    \n",
    "    \n",
    "    # we also want to create an average column and an error column\n",
    "    dataset1c['average'] = dataset1c[['counts', 'run2', 'run3']].apply(np.average, axis = 1,\n",
    "                                                                        raw = True, \n",
    "                                                                        result_type = 'expand')\n",
    "    print(dataset1c.head()) #checkcheck\n",
    "    dataset1c['error'] = dataset1c.apply(lambda x: np.max(np.abs([x.average - x.counts, x.average - x.run2, x.average - x.run3])),\n",
    "                                        axis = 1, result_type = 'expand')\n",
    "    \n",
    "    return dataset1c[['ADC channel', 'average', 'error']]\n",
    "\n",
    "    # we want to now write a loop function that goes through each row of the object and inserts\\\n",
    "    # the average and error of the three measurements in their appropriate columns\n",
    "    # NAH BRO! LOOPING IS FOR NEWBS\n",
    "    "
   ]
  }
 ],
 "metadata": {
  "kernelspec": {
   "display_name": "Python 3 (ipykernel)",
   "language": "python",
   "name": "python3"
  },
  "language_info": {
   "codemirror_mode": {
    "name": "ipython",
    "version": 3
   },
   "file_extension": ".py",
   "mimetype": "text/x-python",
   "name": "python",
   "nbconvert_exporter": "python",
   "pygments_lexer": "ipython3",
   "version": "3.9.7"
  }
 },
 "nbformat": 4,
 "nbformat_minor": 5
}
