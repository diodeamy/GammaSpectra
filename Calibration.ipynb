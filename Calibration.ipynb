{
 "cells": [
  {
   "cell_type": "code",
   "execution_count": 1,
   "id": "5e69992b",
   "metadata": {},
   "outputs": [],
   "source": [
    "# eyyoo it's me again! :)\n",
    "# in this one we want to find a way to \"calibrate\" our data, so this means we wish to find two distinctive peaks\n",
    "# in the data and then associate the ADC channel to where those peaks happen in literature (in terms of energy)"
   ]
  },
  {
   "cell_type": "code",
   "execution_count": null,
   "id": "3df364fd",
   "metadata": {},
   "outputs": [],
   "source": [
    "# what values are we looking for?\n",
    "\n",
    "# Am241 (https://www.ld-didactic.de/software/524221en/Content/Appendix/Am241.htm, \n",
    "# https://inis.iaea.org/collection/NCLCollectionStore/_Public/29/041/29041560.pdf, \n",
    "\n",
    "## highest peak at 59.54keV and the second at 17.7\n",
    "\n",
    "\n",
    "# Ba133 (https://www.sciencedirect.com/science/article/pii/S002955826081019X, \n",
    "# https://ehs.stanford.edu/wp-content/uploads/Ba-133-RSDS.pdf)\n",
    "\n",
    "## highest peak at 31 keV and second at 79\n",
    "\n",
    "\n",
    "# Co60 (https://en.wikipedia.org/wiki/Cobalt-60)\n",
    "\n",
    "## hihgest peak at 1173.2 keV and second at 1332.5 (seek in the above 12k bin range, this si where they occur)\n",
    "\n",
    "\n",
    "# Cs137 (https://ehs.stanford.edu/reference/cs-137-radionuclide-fact-sheet, \n",
    "# http://maximus.energy/index.php/2020/10/24/the-rich-physics-of-cs-137-gamma-spectrum/)\n",
    "\n",
    "## highest peak at 32 keV and second is the gamm at 661.7\n",
    "\n",
    "\n",
    "# Na22 (https://ehs.umich.edu/wp-content/uploads/2016/04/Sodium-22.pdf,\n",
    "# https://www.ld-didactic.de/software/524221en/Content/Appendix/Na22.htm)\n",
    "\n",
    "## highest peak at 511 keV and the second one is at 1274.5"
   ]
  },
  {
   "cell_type": "code",
   "execution_count": null,
   "id": "def5a74a",
   "metadata": {},
   "outputs": [],
   "source": [
    "#np max it, remove the row and do np max again"
   ]
  },
  {
   "cell_type": "code",
   "execution_count": 2,
   "id": "574b7557",
   "metadata": {},
   "outputs": [],
   "source": [
    "import numpy as np\n",
    "import pandas as pd"
   ]
  },
  {
   "cell_type": "code",
   "execution_count": 3,
   "id": "d7a82a9f",
   "metadata": {},
   "outputs": [],
   "source": [
    "B_Am241 = pd.read_csv('Data/BGO/Am241/BGO_Am241_final.csv')\n",
    "B_Ba133 = pd.read_csv('Data/BGO/Ba133/BGO_Ba133_final.csv')\n",
    "B_Co60 = pd.read_csv('Data/BGO/Co60/BGO_C060_final.csv')\n",
    "B_Cs137 = pd.read_csv('Data/BGO/Cs137/BGO_Cs137_final.csv')\n",
    "B_Na22 = pd.read_csv('Data/BGO/Na22/BGO_Na22_final.csv')\n",
    "\n",
    "C_Am241 = pd.read_csv('Data/CSI/Am241/CSI_Am241_final.csv')\n",
    "C_Ba133 = pd.read_csv('Data/CSI/Ba133/CSI_Ba133_final.csv')\n",
    "C_Co60 = pd.read_csv('Data/CSI/Co60/CSI_Co60_final.csv')\n",
    "C_Cs137 = pd.read_csv('Data/CSI/Cs137/CSI_Cs137_final.csv')\n",
    "C_Na22 = pd.read_csv('Data/CSI/Na22/CSI_Na22_final.csv')\n",
    "\n",
    "L_Am241 = pd.read_csv('Data/LYSO/Am241/LYSO_Am241_final.csv')\n",
    "L_Ba133 = pd.read_csv('Data/LYSO/Ba133/LYSO_Ba133_final.csv')\n",
    "L_Co60 = pd.read_csv('Data/LYSO/Co60/LYSO_Co60_final.csv')\n",
    "L_Cs137 = pd.read_csv('Data/LYSO/Cs137/LYSO_Cs137_final.csv')\n",
    "L_Na22 = pd.read_csv('Data/LYSO/Na22/LYSO_Na22_final.csv')"
   ]
  },
  {
   "cell_type": "code",
   "execution_count": 4,
   "id": "5a6b03dc",
   "metadata": {},
   "outputs": [
    {
     "data": {
      "text/html": [
       "<div>\n",
       "<style scoped>\n",
       "    .dataframe tbody tr th:only-of-type {\n",
       "        vertical-align: middle;\n",
       "    }\n",
       "\n",
       "    .dataframe tbody tr th {\n",
       "        vertical-align: top;\n",
       "    }\n",
       "\n",
       "    .dataframe thead th {\n",
       "        text-align: right;\n",
       "    }\n",
       "</style>\n",
       "<table border=\"1\" class=\"dataframe\">\n",
       "  <thead>\n",
       "    <tr style=\"text-align: right;\">\n",
       "      <th></th>\n",
       "      <th>Unnamed: 0</th>\n",
       "      <th>ADC channel</th>\n",
       "      <th>average</th>\n",
       "      <th>error</th>\n",
       "    </tr>\n",
       "  </thead>\n",
       "  <tbody>\n",
       "    <tr>\n",
       "      <th>0</th>\n",
       "      <td>0</td>\n",
       "      <td>-495.0</td>\n",
       "      <td>0.0</td>\n",
       "      <td>0.0</td>\n",
       "    </tr>\n",
       "    <tr>\n",
       "      <th>1</th>\n",
       "      <td>1</td>\n",
       "      <td>-485.0</td>\n",
       "      <td>0.0</td>\n",
       "      <td>0.0</td>\n",
       "    </tr>\n",
       "    <tr>\n",
       "      <th>2</th>\n",
       "      <td>2</td>\n",
       "      <td>-475.0</td>\n",
       "      <td>0.0</td>\n",
       "      <td>0.0</td>\n",
       "    </tr>\n",
       "    <tr>\n",
       "      <th>3</th>\n",
       "      <td>3</td>\n",
       "      <td>-465.0</td>\n",
       "      <td>0.0</td>\n",
       "      <td>0.0</td>\n",
       "    </tr>\n",
       "    <tr>\n",
       "      <th>4</th>\n",
       "      <td>4</td>\n",
       "      <td>-455.0</td>\n",
       "      <td>0.0</td>\n",
       "      <td>0.0</td>\n",
       "    </tr>\n",
       "  </tbody>\n",
       "</table>\n",
       "</div>"
      ],
      "text/plain": [
       "   Unnamed: 0  ADC channel  average  error\n",
       "0           0       -495.0      0.0    0.0\n",
       "1           1       -485.0      0.0    0.0\n",
       "2           2       -475.0      0.0    0.0\n",
       "3           3       -465.0      0.0    0.0\n",
       "4           4       -455.0      0.0    0.0"
      ]
     },
     "execution_count": 4,
     "metadata": {},
     "output_type": "execute_result"
    }
   ],
   "source": [
    "L_Na22.head()"
   ]
  },
  {
   "cell_type": "code",
   "execution_count": null,
   "id": "c199efae",
   "metadata": {},
   "outputs": [],
   "source": [
    "def allthewayup(dataset):\n",
    "    "
   ]
  }
 ],
 "metadata": {
  "kernelspec": {
   "display_name": "Python 3 (ipykernel)",
   "language": "python",
   "name": "python3"
  },
  "language_info": {
   "codemirror_mode": {
    "name": "ipython",
    "version": 3
   },
   "file_extension": ".py",
   "mimetype": "text/x-python",
   "name": "python",
   "nbconvert_exporter": "python",
   "pygments_lexer": "ipython3",
   "version": "3.9.7"
  }
 },
 "nbformat": 4,
 "nbformat_minor": 5
}
