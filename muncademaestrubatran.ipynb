{
 "cells": [
  {
   "cell_type": "code",
   "execution_count": 1,
   "id": "5e92d3d4",
   "metadata": {},
   "outputs": [],
   "source": [
    "from functions import av_err, savetocsv\n",
    "import numpy as np\n",
    "import pandas as pd"
   ]
  },
  {
   "cell_type": "code",
   "execution_count": 20,
   "id": "04511f1a",
   "metadata": {},
   "outputs": [],
   "source": [
    "dataset_1 = pd.read_csv('Data/LYSO/Na22/GAMMA_Charge_Histo(Time 90)_06-09-23 Time 1259.csv', \n",
    "                        names = ['ADC channel','counts'], nrows = 5000)\n",
    "dataset_2 = pd.read_csv('Data/LYSO/Na22/GAMMA_Charge_Histo(Time 90)_06-09-23 Time 1301.csv', \n",
    "                        names = ['ADC channel','counts'], nrows = 5000)\n",
    "dataset_3 = pd.read_csv('Data/LYSO/Na22/GAMMA_Charge_Histo(Time 90)_06-09-23 Time 1303.csv', \n",
    "                        names = ['ADC channel','counts'], nrows = 5000)"
   ]
  },
  {
   "cell_type": "code",
   "execution_count": 21,
   "id": "fdcbed4f",
   "metadata": {},
   "outputs": [
    {
     "name": "stdout",
     "output_type": "stream",
     "text": [
      "      ADC channel  counts\n",
      "0          -495.0     0.0\n",
      "1          -485.0     0.0\n",
      "2          -475.0     0.0\n",
      "3          -465.0     0.0\n",
      "4          -455.0     0.0\n",
      "...           ...     ...\n",
      "3496      34465.0     0.0\n",
      "3497      34475.0     0.0\n",
      "3498      34485.0     0.0\n",
      "3499      34495.0     0.0\n",
      "3500          NaN     NaN\n",
      "\n",
      "[3501 rows x 2 columns]\n"
     ]
    }
   ],
   "source": [
    "print(dataset_3)"
   ]
  },
  {
   "cell_type": "code",
   "execution_count": 22,
   "id": "93d04128",
   "metadata": {},
   "outputs": [
    {
     "name": "stdout",
     "output_type": "stream",
     "text": [
      "   ADC channel  counts  run2  run3\n",
      "0       -495.0     0.0   0.0   0.0\n",
      "1       -485.0     0.0   0.0   0.0\n",
      "2       -475.0     0.0   0.0   0.0\n",
      "3       -465.0     0.0   0.0   0.0\n",
      "4       -455.0     0.0   0.0   0.0\n",
      "   ADC channel  counts  run2  run3  average  error\n",
      "0       -495.0     0.0   0.0   0.0      0.0    0.0\n",
      "1       -485.0     0.0   0.0   0.0      0.0    0.0\n",
      "2       -475.0     0.0   0.0   0.0      0.0    0.0\n",
      "3       -465.0     0.0   0.0   0.0      0.0    0.0\n",
      "4       -455.0     0.0   0.0   0.0      0.0    0.0\n"
     ]
    },
    {
     "data": {
      "text/html": [
       "<div>\n",
       "<style scoped>\n",
       "    .dataframe tbody tr th:only-of-type {\n",
       "        vertical-align: middle;\n",
       "    }\n",
       "\n",
       "    .dataframe tbody tr th {\n",
       "        vertical-align: top;\n",
       "    }\n",
       "\n",
       "    .dataframe thead th {\n",
       "        text-align: right;\n",
       "    }\n",
       "</style>\n",
       "<table border=\"1\" class=\"dataframe\">\n",
       "  <thead>\n",
       "    <tr style=\"text-align: right;\">\n",
       "      <th></th>\n",
       "      <th>ADC channel</th>\n",
       "      <th>average</th>\n",
       "      <th>error</th>\n",
       "    </tr>\n",
       "  </thead>\n",
       "  <tbody>\n",
       "    <tr>\n",
       "      <th>0</th>\n",
       "      <td>-495.0</td>\n",
       "      <td>0.0</td>\n",
       "      <td>0.0</td>\n",
       "    </tr>\n",
       "    <tr>\n",
       "      <th>1</th>\n",
       "      <td>-485.0</td>\n",
       "      <td>0.0</td>\n",
       "      <td>0.0</td>\n",
       "    </tr>\n",
       "    <tr>\n",
       "      <th>2</th>\n",
       "      <td>-475.0</td>\n",
       "      <td>0.0</td>\n",
       "      <td>0.0</td>\n",
       "    </tr>\n",
       "    <tr>\n",
       "      <th>3</th>\n",
       "      <td>-465.0</td>\n",
       "      <td>0.0</td>\n",
       "      <td>0.0</td>\n",
       "    </tr>\n",
       "    <tr>\n",
       "      <th>4</th>\n",
       "      <td>-455.0</td>\n",
       "      <td>0.0</td>\n",
       "      <td>0.0</td>\n",
       "    </tr>\n",
       "    <tr>\n",
       "      <th>...</th>\n",
       "      <td>...</td>\n",
       "      <td>...</td>\n",
       "      <td>...</td>\n",
       "    </tr>\n",
       "    <tr>\n",
       "      <th>3496</th>\n",
       "      <td>34465.0</td>\n",
       "      <td>0.0</td>\n",
       "      <td>0.0</td>\n",
       "    </tr>\n",
       "    <tr>\n",
       "      <th>3497</th>\n",
       "      <td>34475.0</td>\n",
       "      <td>0.0</td>\n",
       "      <td>0.0</td>\n",
       "    </tr>\n",
       "    <tr>\n",
       "      <th>3498</th>\n",
       "      <td>34485.0</td>\n",
       "      <td>0.0</td>\n",
       "      <td>0.0</td>\n",
       "    </tr>\n",
       "    <tr>\n",
       "      <th>3499</th>\n",
       "      <td>34495.0</td>\n",
       "      <td>0.0</td>\n",
       "      <td>0.0</td>\n",
       "    </tr>\n",
       "    <tr>\n",
       "      <th>3500</th>\n",
       "      <td>NaN</td>\n",
       "      <td>NaN</td>\n",
       "      <td>NaN</td>\n",
       "    </tr>\n",
       "  </tbody>\n",
       "</table>\n",
       "<p>3501 rows × 3 columns</p>\n",
       "</div>"
      ],
      "text/plain": [
       "      ADC channel  average  error\n",
       "0          -495.0      0.0    0.0\n",
       "1          -485.0      0.0    0.0\n",
       "2          -475.0      0.0    0.0\n",
       "3          -465.0      0.0    0.0\n",
       "4          -455.0      0.0    0.0\n",
       "...           ...      ...    ...\n",
       "3496      34465.0      0.0    0.0\n",
       "3497      34475.0      0.0    0.0\n",
       "3498      34485.0      0.0    0.0\n",
       "3499      34495.0      0.0    0.0\n",
       "3500          NaN      NaN    NaN\n",
       "\n",
       "[3501 rows x 3 columns]"
      ]
     },
     "execution_count": 22,
     "metadata": {},
     "output_type": "execute_result"
    }
   ],
   "source": [
    "av_err(dataset_1, dataset_2, dataset_3)"
   ]
  },
  {
   "cell_type": "code",
   "execution_count": 23,
   "id": "97afa377",
   "metadata": {},
   "outputs": [
    {
     "name": "stdout",
     "output_type": "stream",
     "text": [
      "   ADC channel  counts  run2  run3\n",
      "0       -495.0     0.0   0.0   0.0\n",
      "1       -485.0     0.0   0.0   0.0\n",
      "2       -475.0     0.0   0.0   0.0\n",
      "3       -465.0     0.0   0.0   0.0\n",
      "4       -455.0     0.0   0.0   0.0\n",
      "   ADC channel  counts  run2  run3  average  error\n",
      "0       -495.0     0.0   0.0   0.0      0.0    0.0\n",
      "1       -485.0     0.0   0.0   0.0      0.0    0.0\n",
      "2       -475.0     0.0   0.0   0.0      0.0    0.0\n",
      "3       -465.0     0.0   0.0   0.0      0.0    0.0\n",
      "4       -455.0     0.0   0.0   0.0      0.0    0.0\n"
     ]
    }
   ],
   "source": [
    "    savetocsv(av_err(dataset_1, dataset_2, dataset_3), 'Data/LYSO/Na22/LYSO_Na22_final.csv')"
   ]
  },
  {
   "cell_type": "code",
   "execution_count": null,
   "id": "bc87391e",
   "metadata": {},
   "outputs": [],
   "source": []
  }
 ],
 "metadata": {
  "kernelspec": {
   "display_name": "Python 3 (ipykernel)",
   "language": "python",
   "name": "python3"
  },
  "language_info": {
   "codemirror_mode": {
    "name": "ipython",
    "version": 3
   },
   "file_extension": ".py",
   "mimetype": "text/x-python",
   "name": "python",
   "nbconvert_exporter": "python",
   "pygments_lexer": "ipython3",
   "version": "3.9.7"
  }
 },
 "nbformat": 4,
 "nbformat_minor": 5
}
