{
 "cells": [
  {
   "cell_type": "code",
   "execution_count": 1,
   "id": "3dc2afc0",
   "metadata": {},
   "outputs": [],
   "source": [
    "# eyyoo it's me again! :)\n",
    "# in this one we want to find a way to \"calibrate\" our data, so this means we wish to find two distinctive peaks\n",
    "# in the data and then associate the ADC channel to where those peaks happen in literature (in terms of energy)"
   ]
  },
  {
   "cell_type": "code",
   "execution_count": null,
   "id": "56d2a5c9",
   "metadata": {},
   "outputs": [],
   "source": [
    "# what values are we looking for?\n",
    "\n",
    "# Am241 (https://www.ld-didactic.de/software/524221en/Content/Appendix/Am241.htm, \n",
    "# https://inis.iaea.org/collection/NCLCollectionStore/_Public/29/041/29041560.pdf, \n",
    "\n",
    "## highest peak at 59.54keV and the second at 17.7\n",
    "\n",
    "\n",
    "# Ba133 (https://www.sciencedirect.com/science/article/pii/S002955826081019X, \n",
    "# https://ehs.stanford.edu/wp-content/uploads/Ba-133-RSDS.pdf)\n",
    "\n",
    "## highest peak at 31 keV and second at 79\n",
    "\n",
    "\n",
    "# Co60 (https://en.wikipedia.org/wiki/Cobalt-60)\n",
    "\n",
    "## hihgest peak at 1173.2 keV and second at 1332.5 (seek in the above 12k bin range, this si where they occur)\n",
    "\n",
    "\n",
    "# Cs137 (https://ehs.stanford.edu/reference/cs-137-radionuclide-fact-sheet, \n",
    "# http://maximus.energy/index.php/2020/10/24/the-rich-physics-of-cs-137-gamma-spectrum/)\n",
    "\n",
    "## highest peak at 32 keV and second is the gamm at 661.7\n",
    "\n",
    "\n",
    "# Na22 (https://ehs.umich.edu/wp-content/uploads/2016/04/Sodium-22.pdf,\n",
    "# https://www.ld-didactic.de/software/524221en/Content/Appendix/Na22.htm)\n",
    "\n",
    "## highest peak at 511 keV and the second one is at 1274.5"
   ]
  },
  {
   "cell_type": "code",
   "execution_count": null,
   "id": "47d37242",
   "metadata": {},
   "outputs": [],
   "source": [
    "#np max it, remove the row and do np max again"
   ]
  },
  {
   "cell_type": "code",
   "execution_count": 2,
   "id": "57ad008f",
   "metadata": {},
   "outputs": [],
   "source": [
    "import numpy as np\n",
    "import pandas as pd"
   ]
  },
  {
   "cell_type": "code",
   "execution_count": 3,
   "id": "ff149fc4",
   "metadata": {},
   "outputs": [],
   "source": [
    "B_Am241 = pd.read_csv('Data/BGO/Am241/BGO_Am241_final.csv')\n",
    "B_Ba133 = pd.read_csv('Data/BGO/Ba133/BGO_Ba133_final.csv')\n",
    "B_Co60 = pd.read_csv('Data/BGO/Co60/BGO_C060_final.csv')\n",
    "B_Cs137 = pd.read_csv('Data/BGO/Cs137/BGO_Cs137_final.csv')\n",
    "B_Na22 = pd.read_csv('Data/BGO/Na22/BGO_Na22_final.csv')\n",
    "\n",
    "C_Am241 = pd.read_csv('Data/CSI/Am241/CSI_Am241_final.csv')\n",
    "C_Ba133 = pd.read_csv('Data/CSI/Ba133/CSI_Ba133_final.csv')\n",
    "C_Co60 = pd.read_csv('Data/CSI/Co60/CSI_Co60_final.csv')\n",
    "C_Cs137 = pd.read_csv('Data/CSI/Cs137/CSI_Cs137_final.csv')\n",
    "C_Na22 = pd.read_csv('Data/CSI/Na22/CSI_Na22_final.csv')\n",
    "\n",
    "L_Am241 = pd.read_csv('Data/LYSO/Am241/LYSO_Am241_final.csv')\n",
    "L_Ba133 = pd.read_csv('Data/LYSO/Ba133/LYSO_Ba133_final.csv')\n",
    "L_Co60 = pd.read_csv('Data/LYSO/Co60/LYSO_Co60_final.csv')\n",
    "L_Cs137 = pd.read_csv('Data/LYSO/Cs137/LYSO_Cs137_final.csv')\n",
    "L_Na22 = pd.read_csv('Data/LYSO/Na22/LYSO_Na22_final.csv')"
   ]
  },
  {
   "cell_type": "code",
   "execution_count": 159,
   "id": "2648bed6",
   "metadata": {},
   "outputs": [],
   "source": [
    "def allthewayup(dataset, peak1, peak2, islarger, peakwidth = 150, iscobalt = 0):\n",
    "    '''\n",
    "    I want this function to take the dataset, seek the highest two values of \"average\", which are the counts;\n",
    "    it will then return a dictionary object linking the energy and bins at each peak for later consumption\n",
    "    \n",
    "    Params\n",
    "    -------\n",
    "    dataset: the data to be processed\n",
    "    peak1: the literature value for where the highest peak should be\n",
    "    peak2: the literature value for where the second highest peak should be\n",
    "    islarger: 0 if the second-highest peak is at a higher energy level than the first\n",
    "              1 if the second-highest peak is at a lower energy level than the first\n",
    "    peakwidth: approximate peak width(will be removed from dataset in order to find the second peak)\n",
    "    iscobalt: the cobalt sample was being very difficult; we need to look in the >12k bin range for it\n",
    "              put 1 for this if you are assessing cobalt\n",
    "    \n",
    "    \n",
    "    Returns\n",
    "    -------\n",
    "    dictionary object\n",
    "    \n",
    "    '''\n",
    "    df_sort = dataset.sort_values(by=['average'], \n",
    "                              ascending=False, inplace=False)[['ADC channel']]\n",
    "    if iscobalt == 1:\n",
    "        dp1 = df_sort[df_sort['ADC channel']> 12000].iloc[0]\n",
    "        \n",
    "        dp2 = df_sort[df_sort['ADC channel'] > peakwidth+12000].iloc[0]\n",
    "    \n",
    "    elif iscobalt == 0:\n",
    "        \n",
    "        dp1 = df_sort.iloc[0]\n",
    "    \n",
    "        if islarger == 0:\n",
    "            dp2 = df_sort[df_sort['ADC channel'] > peakwidth].iloc[0]\n",
    "        \n",
    "        elif islarger == 1:\n",
    "            dp2 = df_sort[df_sort['ADC channel'] < peakwidth].iloc[0]\n",
    "    \n",
    "    my_dict = {'peak1': {'energy': peak1, 'channel':dp1[0]}, 'peak2':{'energy': peak2, 'channel':dp2[0]}}\n",
    "    \n",
    "    \n",
    "    return my_dict"
   ]
  },
  {
   "cell_type": "code",
   "execution_count": 160,
   "id": "b01036af",
   "metadata": {},
   "outputs": [
    {
     "data": {
      "text/plain": [
       "{'peak1': {'energy': 59, 'channel': 295.0},\n",
       " 'peak2': {'energy': 17, 'channel': 7925.0}}"
      ]
     },
     "execution_count": 160,
     "metadata": {},
     "output_type": "execute_result"
    }
   ],
   "source": [
    "allthewayup(L_Cs137, 59, 17, 0, 2000)"
   ]
  },
  {
   "cell_type": "code",
   "execution_count": null,
   "id": "267a3c33",
   "metadata": {},
   "outputs": [],
   "source": [
    "allthewayup(L_Co60,)"
   ]
  }
 ],
 "metadata": {
  "kernelspec": {
   "display_name": "Python 3 (ipykernel)",
   "language": "python",
   "name": "python3"
  },
  "language_info": {
   "codemirror_mode": {
    "name": "ipython",
    "version": 3
   },
   "file_extension": ".py",
   "mimetype": "text/x-python",
   "name": "python",
   "nbconvert_exporter": "python",
   "pygments_lexer": "ipython3",
   "version": "3.9.7"
  }
 },
 "nbformat": 4,
 "nbformat_minor": 5
}
