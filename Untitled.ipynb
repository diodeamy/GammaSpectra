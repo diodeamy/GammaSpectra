{
 "cells": [
  {
   "cell_type": "code",
   "execution_count": 7,
   "id": "5157b3e5",
   "metadata": {},
   "outputs": [],
   "source": [
    "from functions import av_err, savetocsv\n",
    "import numpy as np\n",
    "import pandas as pd"
   ]
  },
  {
   "cell_type": "code",
   "execution_count": 8,
   "id": "fb65e93d",
   "metadata": {},
   "outputs": [],
   "source": [
    "dataset_1 = pd.read_csv('Data/BGO/Co60/GAMMA_Charge_Histo(Time 180)_06-09-23 Time 1447.csv', \n",
    "                        names = ['ADC channel','counts'], nrows = 5000)\n",
    "dataset_2 = pd.read_csv('Data/BGO/Co60/GAMMA_Charge_Histo(Time 180)_06-09-23 Time 1451.csv', \n",
    "                        names = ['ADC channel','counts'], nrows = 5000)\n",
    "dataset_3 = pd.read_csv('Data/BGO/Co60/GAMMA_Charge_Histo(Time 180)_06-09-23 Time 1455.csv', \n",
    "                        names = ['ADC channel','counts'], nrows = 5000)"
   ]
  },
  {
   "cell_type": "code",
   "execution_count": 9,
   "id": "f348629f",
   "metadata": {},
   "outputs": [
    {
     "ename": "NameError",
     "evalue": "name 'np' is not defined",
     "output_type": "error",
     "traceback": [
      "\u001b[0;31m---------------------------------------------------------------------------\u001b[0m",
      "\u001b[0;31mNameError\u001b[0m                                 Traceback (most recent call last)",
      "\u001b[0;32m/var/folders/92/lch654g970bbnp6xj7dvsbxh0000gn/T/ipykernel_30725/594500333.py\u001b[0m in \u001b[0;36m<module>\u001b[0;34m\u001b[0m\n\u001b[0;32m----> 1\u001b[0;31m \u001b[0mav_err\u001b[0m\u001b[0;34m(\u001b[0m\u001b[0mdataset_1\u001b[0m\u001b[0;34m,\u001b[0m \u001b[0mdataset_2\u001b[0m\u001b[0;34m,\u001b[0m \u001b[0mdataset_3\u001b[0m\u001b[0;34m)\u001b[0m\u001b[0;34m\u001b[0m\u001b[0;34m\u001b[0m\u001b[0m\n\u001b[0m",
      "\u001b[0;32m~/Documents/GitHub/GammaSpectra/functions.py\u001b[0m in \u001b[0;36mav_err\u001b[0;34m(dataset_1, dataset_2, dataset_3)\u001b[0m\n\u001b[1;32m     18\u001b[0m \u001b[0;34m\u001b[0m\u001b[0m\n\u001b[1;32m     19\u001b[0m     \u001b[0;31m# we also want to create an average column and an error column\u001b[0m\u001b[0;34m\u001b[0m\u001b[0;34m\u001b[0m\u001b[0m\n\u001b[0;32m---> 20\u001b[0;31m     dataset1c['average'] = dataset1c[['counts', 'run2', 'run3']].apply(np.average, axis = 1,\n\u001b[0m\u001b[1;32m     21\u001b[0m                                                                         \u001b[0mraw\u001b[0m \u001b[0;34m=\u001b[0m \u001b[0;32mTrue\u001b[0m\u001b[0;34m,\u001b[0m\u001b[0;34m\u001b[0m\u001b[0;34m\u001b[0m\u001b[0m\n\u001b[1;32m     22\u001b[0m                                                                         result_type = 'expand')\n",
      "\u001b[0;31mNameError\u001b[0m: name 'np' is not defined"
     ]
    }
   ],
   "source": [
    "av_err(dataset_1, dataset_2, dataset_3)"
   ]
  },
  {
   "cell_type": "code",
   "execution_count": null,
   "id": "a273c10b",
   "metadata": {},
   "outputs": [],
   "source": []
  }
 ],
 "metadata": {
  "kernelspec": {
   "display_name": "Python 3 (ipykernel)",
   "language": "python",
   "name": "python3"
  },
  "language_info": {
   "codemirror_mode": {
    "name": "ipython",
    "version": 3
   },
   "file_extension": ".py",
   "mimetype": "text/x-python",
   "name": "python",
   "nbconvert_exporter": "python",
   "pygments_lexer": "ipython3",
   "version": "3.9.7"
  }
 },
 "nbformat": 4,
 "nbformat_minor": 5
}
