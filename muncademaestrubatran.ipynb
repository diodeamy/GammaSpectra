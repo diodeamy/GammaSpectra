{
 "cells": [
  {
   "cell_type": "code",
   "execution_count": 1,
   "id": "68c44b00",
   "metadata": {},
   "outputs": [],
   "source": [
    "from functions import av_err, savetocsv\n",
    "import numpy as np\n",
    "import pandas as pd"
   ]
  },
  {
   "cell_type": "code",
   "execution_count": 16,
   "id": "f35c194f",
   "metadata": {},
   "outputs": [],
   "source": [
    "dataset_1 = pd.read_csv('Data/BGO/Cs137/GAMMA_Charge_Histo(Time 90)_06-09-23 Time 1358.csv', \n",
    "                        names = ['ADC channel','counts'], nrows = 5000)\n",
    "dataset_2 = pd.read_csv('Data/BGO/Cs137/GAMMA_Charge_Histo(Time 90)_06-09-23 Time 1400.csv', \n",
    "                        names = ['ADC channel','counts'], nrows = 5000)\n",
    "dataset_3 = pd.read_csv('Data/BGO/Cs137/GAMMA_Charge_Histo(Time 90)_06-09-23 Time 1402.csv', \n",
    "                        names = ['ADC channel','counts'], nrows = 5000)"
   ]
  },
  {
   "cell_type": "code",
   "execution_count": 17,
   "id": "24090c29",
   "metadata": {},
   "outputs": [
    {
     "data": {
      "text/html": [
       "<div>\n",
       "<style scoped>\n",
       "    .dataframe tbody tr th:only-of-type {\n",
       "        vertical-align: middle;\n",
       "    }\n",
       "\n",
       "    .dataframe tbody tr th {\n",
       "        vertical-align: top;\n",
       "    }\n",
       "\n",
       "    .dataframe thead th {\n",
       "        text-align: right;\n",
       "    }\n",
       "</style>\n",
       "<table border=\"1\" class=\"dataframe\">\n",
       "  <thead>\n",
       "    <tr style=\"text-align: right;\">\n",
       "      <th></th>\n",
       "      <th>ADC channel</th>\n",
       "      <th>average</th>\n",
       "      <th>error</th>\n",
       "    </tr>\n",
       "  </thead>\n",
       "  <tbody>\n",
       "    <tr>\n",
       "      <th>0</th>\n",
       "      <td>-495.0</td>\n",
       "      <td>2.333333</td>\n",
       "      <td>1.333333</td>\n",
       "    </tr>\n",
       "    <tr>\n",
       "      <th>1</th>\n",
       "      <td>-485.0</td>\n",
       "      <td>1.333333</td>\n",
       "      <td>0.666667</td>\n",
       "    </tr>\n",
       "    <tr>\n",
       "      <th>2</th>\n",
       "      <td>-475.0</td>\n",
       "      <td>0.666667</td>\n",
       "      <td>1.333333</td>\n",
       "    </tr>\n",
       "    <tr>\n",
       "      <th>3</th>\n",
       "      <td>-465.0</td>\n",
       "      <td>0.666667</td>\n",
       "      <td>0.666667</td>\n",
       "    </tr>\n",
       "    <tr>\n",
       "      <th>4</th>\n",
       "      <td>-455.0</td>\n",
       "      <td>0.666667</td>\n",
       "      <td>1.333333</td>\n",
       "    </tr>\n",
       "    <tr>\n",
       "      <th>...</th>\n",
       "      <td>...</td>\n",
       "      <td>...</td>\n",
       "      <td>...</td>\n",
       "    </tr>\n",
       "    <tr>\n",
       "      <th>3496</th>\n",
       "      <td>34465.0</td>\n",
       "      <td>0.000000</td>\n",
       "      <td>0.000000</td>\n",
       "    </tr>\n",
       "    <tr>\n",
       "      <th>3497</th>\n",
       "      <td>34475.0</td>\n",
       "      <td>0.000000</td>\n",
       "      <td>0.000000</td>\n",
       "    </tr>\n",
       "    <tr>\n",
       "      <th>3498</th>\n",
       "      <td>34485.0</td>\n",
       "      <td>0.000000</td>\n",
       "      <td>0.000000</td>\n",
       "    </tr>\n",
       "    <tr>\n",
       "      <th>3499</th>\n",
       "      <td>34495.0</td>\n",
       "      <td>0.000000</td>\n",
       "      <td>0.000000</td>\n",
       "    </tr>\n",
       "    <tr>\n",
       "      <th>3500</th>\n",
       "      <td>NaN</td>\n",
       "      <td>NaN</td>\n",
       "      <td>NaN</td>\n",
       "    </tr>\n",
       "  </tbody>\n",
       "</table>\n",
       "<p>3501 rows × 3 columns</p>\n",
       "</div>"
      ],
      "text/plain": [
       "      ADC channel   average     error\n",
       "0          -495.0  2.333333  1.333333\n",
       "1          -485.0  1.333333  0.666667\n",
       "2          -475.0  0.666667  1.333333\n",
       "3          -465.0  0.666667  0.666667\n",
       "4          -455.0  0.666667  1.333333\n",
       "...           ...       ...       ...\n",
       "3496      34465.0  0.000000  0.000000\n",
       "3497      34475.0  0.000000  0.000000\n",
       "3498      34485.0  0.000000  0.000000\n",
       "3499      34495.0  0.000000  0.000000\n",
       "3500          NaN       NaN       NaN\n",
       "\n",
       "[3501 rows x 3 columns]"
      ]
     },
     "execution_count": 17,
     "metadata": {},
     "output_type": "execute_result"
    }
   ],
   "source": [
    "av_err(dataset_1, dataset_2, dataset_3)"
   ]
  },
  {
   "cell_type": "code",
   "execution_count": 19,
   "id": "589427b0",
   "metadata": {},
   "outputs": [],
   "source": [
    "savetocsv(av_err(dataset_1, dataset_2, dataset_3), 'Data/BGO/Cs137/BGO_Cs137_final.csv')"
   ]
  },
  {
   "cell_type": "code",
   "execution_count": null,
   "id": "c3c017a0",
   "metadata": {},
   "outputs": [],
   "source": []
  }
 ],
 "metadata": {
  "kernelspec": {
   "display_name": "Python 3 (ipykernel)",
   "language": "python",
   "name": "python3"
  },
  "language_info": {
   "codemirror_mode": {
    "name": "ipython",
    "version": 3
   },
   "file_extension": ".py",
   "mimetype": "text/x-python",
   "name": "python",
   "nbconvert_exporter": "python",
   "pygments_lexer": "ipython3",
   "version": "3.9.7"
  }
 },
 "nbformat": 4,
 "nbformat_minor": 5
}
